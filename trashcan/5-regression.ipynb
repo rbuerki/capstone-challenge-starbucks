{
 "cells": [
  {
   "cell_type": "markdown",
   "metadata": {},
   "source": [
    "# Regression Modelling\n",
    "\n",
    "Preprocess Data & Run Regression Algorithms to determine the importance / success of different offer types for different customer segments.\n",
    "\n",
    "\n",
    "### Data Sources\n",
    "\n",
    "Cleaned datafiles, as prepared in notebook 1: `profile_type_clean.csv`: demographic data and KPI for each of the offer types per customer.\n",
    "\n",
    "### Changes\n",
    "\n",
    "- 2019-01-22: Started notebook\n",
    "\n"
   ]
  },
  {
   "cell_type": "code",
   "execution_count": 1,
   "metadata": {},
   "outputs": [],
   "source": [
    "# load libraries\n",
    "\n",
    "import numpy as np\n",
    "import pandas as pd\n",
    "from tqdm import tqdm\n",
    "\n",
    "# my own custom functions\n",
    "import EDA_functions as EDA\n",
    "import cleaning_functions as cleaning\n",
    "from linRegModel_class import LinRegModel \n",
    "\n",
    "from sklearn.linear_model import LinearRegression, RidgeCV, LassoCV, ElasticNetCV\n",
    "from sklearn.model_selection import train_test_split, learning_curve\n",
    "from sklearn.metrics import r2_score, mean_squared_error\n",
    "from sklearn.utils import resample  # for error calculation of feature weights\n",
    "\n",
    "# visualization\n",
    "import matplotlib.pyplot as plt\n",
    "import seaborn as sns #, sns.set_style('whitegrid')\n",
    "color = 'rebeccapurple'\n",
    "%matplotlib inline\n",
    "\n",
    "# display settings\n",
    "from IPython.display import display\n",
    "pd.options.display.max_columns = None\n",
    "\n",
    "from pathlib import Path  # to make file path references relative to notebook directory"
   ]
  },
  {
   "cell_type": "code",
   "execution_count": 2,
   "metadata": {},
   "outputs": [],
   "source": [
    "# import preparated data\n",
    "\n",
    "profile_type_file = Path.cwd() / \"data\" / \"processed\" / \"profile_type_clean.csv\"\n",
    "profile_type = pd.read_csv(profile_type_file, index_col = 0, dtype={'gender' : 'category'})"
   ]
  },
  {
   "cell_type": "markdown",
   "metadata": {},
   "source": [
    "## Check profile type data"
   ]
  },
  {
   "cell_type": "code",
   "execution_count": 3,
   "metadata": {},
   "outputs": [
    {
     "data": {
      "text/html": [
       "<div>\n",
       "<style scoped>\n",
       "    .dataframe tbody tr th:only-of-type {\n",
       "        vertical-align: middle;\n",
       "    }\n",
       "\n",
       "    .dataframe tbody tr th {\n",
       "        vertical-align: top;\n",
       "    }\n",
       "\n",
       "    .dataframe thead th {\n",
       "        text-align: right;\n",
       "    }\n",
       "</style>\n",
       "<table border=\"1\" class=\"dataframe\">\n",
       "  <thead>\n",
       "    <tr style=\"text-align: right;\">\n",
       "      <th></th>\n",
       "      <th>age</th>\n",
       "      <th>gender</th>\n",
       "      <th>income</th>\n",
       "      <th>member_days</th>\n",
       "      <th>offer_received</th>\n",
       "      <th>offer_viewed</th>\n",
       "      <th>offer_completed</th>\n",
       "      <th>viewed_received</th>\n",
       "      <th>completed_viewed</th>\n",
       "      <th>total_trans</th>\n",
       "      <th>total_amount</th>\n",
       "      <th>total_reward</th>\n",
       "      <th>total_profit</th>\n",
       "      <th>prop_reward</th>\n",
       "      <th>total_mean_amount</th>\n",
       "      <th>np_trans</th>\n",
       "      <th>np_amount</th>\n",
       "      <th>np_mean_amount</th>\n",
       "      <th>prop_np_trans</th>\n",
       "      <th>prop_np_amount</th>\n",
       "      <th>bogo_completed</th>\n",
       "      <th>bogo_viewed</th>\n",
       "      <th>bogo_trans</th>\n",
       "      <th>bogo_amount</th>\n",
       "      <th>discount_completed</th>\n",
       "      <th>discount_viewed</th>\n",
       "      <th>discount_trans</th>\n",
       "      <th>discount_amount</th>\n",
       "      <th>info_viewed</th>\n",
       "      <th>info_trans</th>\n",
       "      <th>info_amount</th>\n",
       "    </tr>\n",
       "  </thead>\n",
       "  <tbody>\n",
       "    <tr>\n",
       "      <th>p_1</th>\n",
       "      <td>NaN</td>\n",
       "      <td>NaN</td>\n",
       "      <td>NaN</td>\n",
       "      <td>-529</td>\n",
       "      <td>5.0</td>\n",
       "      <td>5.0</td>\n",
       "      <td>2.0</td>\n",
       "      <td>1.00</td>\n",
       "      <td>2.0</td>\n",
       "      <td>9.0</td>\n",
       "      <td>20.40</td>\n",
       "      <td>5.0</td>\n",
       "      <td>15.40</td>\n",
       "      <td>0.245098</td>\n",
       "      <td>2.266667</td>\n",
       "      <td>0</td>\n",
       "      <td>0.00</td>\n",
       "      <td>0.000000</td>\n",
       "      <td>0.000000</td>\n",
       "      <td>0.000000</td>\n",
       "      <td>0.0</td>\n",
       "      <td>0.0</td>\n",
       "      <td>0.0</td>\n",
       "      <td>0.000</td>\n",
       "      <td>2.0</td>\n",
       "      <td>5.0</td>\n",
       "      <td>9.0</td>\n",
       "      <td>20.400</td>\n",
       "      <td>0.0</td>\n",
       "      <td>0.0</td>\n",
       "      <td>0.000</td>\n",
       "    </tr>\n",
       "    <tr>\n",
       "      <th>p_10</th>\n",
       "      <td>NaN</td>\n",
       "      <td>NaN</td>\n",
       "      <td>NaN</td>\n",
       "      <td>-611</td>\n",
       "      <td>4.0</td>\n",
       "      <td>3.0</td>\n",
       "      <td>1.0</td>\n",
       "      <td>0.75</td>\n",
       "      <td>0.0</td>\n",
       "      <td>6.0</td>\n",
       "      <td>15.62</td>\n",
       "      <td>5.0</td>\n",
       "      <td>10.62</td>\n",
       "      <td>0.320102</td>\n",
       "      <td>2.603333</td>\n",
       "      <td>3</td>\n",
       "      <td>7.69</td>\n",
       "      <td>2.563333</td>\n",
       "      <td>0.500000</td>\n",
       "      <td>0.492318</td>\n",
       "      <td>0.0</td>\n",
       "      <td>2.0</td>\n",
       "      <td>3.0</td>\n",
       "      <td>7.930</td>\n",
       "      <td>0.0</td>\n",
       "      <td>0.0</td>\n",
       "      <td>0.0</td>\n",
       "      <td>0.000</td>\n",
       "      <td>1.0</td>\n",
       "      <td>0.0</td>\n",
       "      <td>0.000</td>\n",
       "    </tr>\n",
       "    <tr>\n",
       "      <th>p_100</th>\n",
       "      <td>68.0</td>\n",
       "      <td>F</td>\n",
       "      <td>84000.0</td>\n",
       "      <td>-725</td>\n",
       "      <td>5.0</td>\n",
       "      <td>0.0</td>\n",
       "      <td>1.0</td>\n",
       "      <td>0.00</td>\n",
       "      <td>0.0</td>\n",
       "      <td>2.0</td>\n",
       "      <td>34.04</td>\n",
       "      <td>2.0</td>\n",
       "      <td>32.04</td>\n",
       "      <td>0.058754</td>\n",
       "      <td>17.020000</td>\n",
       "      <td>2</td>\n",
       "      <td>34.04</td>\n",
       "      <td>17.020000</td>\n",
       "      <td>1.000000</td>\n",
       "      <td>1.000000</td>\n",
       "      <td>0.0</td>\n",
       "      <td>0.0</td>\n",
       "      <td>0.0</td>\n",
       "      <td>0.000</td>\n",
       "      <td>0.0</td>\n",
       "      <td>0.0</td>\n",
       "      <td>0.0</td>\n",
       "      <td>0.000</td>\n",
       "      <td>0.0</td>\n",
       "      <td>0.0</td>\n",
       "      <td>0.000</td>\n",
       "    </tr>\n",
       "    <tr>\n",
       "      <th>p_1000</th>\n",
       "      <td>67.0</td>\n",
       "      <td>M</td>\n",
       "      <td>44000.0</td>\n",
       "      <td>-225</td>\n",
       "      <td>4.0</td>\n",
       "      <td>4.0</td>\n",
       "      <td>0.0</td>\n",
       "      <td>1.00</td>\n",
       "      <td>0.0</td>\n",
       "      <td>5.0</td>\n",
       "      <td>19.78</td>\n",
       "      <td>0.0</td>\n",
       "      <td>19.78</td>\n",
       "      <td>0.000000</td>\n",
       "      <td>3.956000</td>\n",
       "      <td>2</td>\n",
       "      <td>13.37</td>\n",
       "      <td>6.685000</td>\n",
       "      <td>0.400000</td>\n",
       "      <td>0.675935</td>\n",
       "      <td>0.0</td>\n",
       "      <td>3.0</td>\n",
       "      <td>3.0</td>\n",
       "      <td>5.555</td>\n",
       "      <td>0.0</td>\n",
       "      <td>0.0</td>\n",
       "      <td>0.0</td>\n",
       "      <td>0.000</td>\n",
       "      <td>1.0</td>\n",
       "      <td>1.0</td>\n",
       "      <td>0.855</td>\n",
       "    </tr>\n",
       "    <tr>\n",
       "      <th>p_10000</th>\n",
       "      <td>NaN</td>\n",
       "      <td>NaN</td>\n",
       "      <td>NaN</td>\n",
       "      <td>-446</td>\n",
       "      <td>3.0</td>\n",
       "      <td>3.0</td>\n",
       "      <td>0.0</td>\n",
       "      <td>1.00</td>\n",
       "      <td>0.0</td>\n",
       "      <td>6.0</td>\n",
       "      <td>7.28</td>\n",
       "      <td>0.0</td>\n",
       "      <td>7.28</td>\n",
       "      <td>0.000000</td>\n",
       "      <td>1.213333</td>\n",
       "      <td>1</td>\n",
       "      <td>1.83</td>\n",
       "      <td>1.830000</td>\n",
       "      <td>0.166667</td>\n",
       "      <td>0.251374</td>\n",
       "      <td>0.0</td>\n",
       "      <td>2.0</td>\n",
       "      <td>4.0</td>\n",
       "      <td>3.935</td>\n",
       "      <td>0.0</td>\n",
       "      <td>1.0</td>\n",
       "      <td>3.0</td>\n",
       "      <td>1.515</td>\n",
       "      <td>0.0</td>\n",
       "      <td>0.0</td>\n",
       "      <td>0.000</td>\n",
       "    </tr>\n",
       "  </tbody>\n",
       "</table>\n",
       "</div>"
      ],
      "text/plain": [
       "          age gender   income  member_days  offer_received  offer_viewed  \\\n",
       "p_1       NaN    NaN      NaN         -529             5.0           5.0   \n",
       "p_10      NaN    NaN      NaN         -611             4.0           3.0   \n",
       "p_100    68.0      F  84000.0         -725             5.0           0.0   \n",
       "p_1000   67.0      M  44000.0         -225             4.0           4.0   \n",
       "p_10000   NaN    NaN      NaN         -446             3.0           3.0   \n",
       "\n",
       "         offer_completed  viewed_received  completed_viewed  total_trans  \\\n",
       "p_1                  2.0             1.00               2.0          9.0   \n",
       "p_10                 1.0             0.75               0.0          6.0   \n",
       "p_100                1.0             0.00               0.0          2.0   \n",
       "p_1000               0.0             1.00               0.0          5.0   \n",
       "p_10000              0.0             1.00               0.0          6.0   \n",
       "\n",
       "         total_amount  total_reward  total_profit  prop_reward  \\\n",
       "p_1             20.40           5.0         15.40     0.245098   \n",
       "p_10            15.62           5.0         10.62     0.320102   \n",
       "p_100           34.04           2.0         32.04     0.058754   \n",
       "p_1000          19.78           0.0         19.78     0.000000   \n",
       "p_10000          7.28           0.0          7.28     0.000000   \n",
       "\n",
       "         total_mean_amount  np_trans  np_amount  np_mean_amount  \\\n",
       "p_1               2.266667         0       0.00        0.000000   \n",
       "p_10              2.603333         3       7.69        2.563333   \n",
       "p_100            17.020000         2      34.04       17.020000   \n",
       "p_1000            3.956000         2      13.37        6.685000   \n",
       "p_10000           1.213333         1       1.83        1.830000   \n",
       "\n",
       "         prop_np_trans  prop_np_amount  bogo_completed  bogo_viewed  \\\n",
       "p_1           0.000000        0.000000             0.0          0.0   \n",
       "p_10          0.500000        0.492318             0.0          2.0   \n",
       "p_100         1.000000        1.000000             0.0          0.0   \n",
       "p_1000        0.400000        0.675935             0.0          3.0   \n",
       "p_10000       0.166667        0.251374             0.0          2.0   \n",
       "\n",
       "         bogo_trans  bogo_amount  discount_completed  discount_viewed  \\\n",
       "p_1             0.0        0.000                 2.0              5.0   \n",
       "p_10            3.0        7.930                 0.0              0.0   \n",
       "p_100           0.0        0.000                 0.0              0.0   \n",
       "p_1000          3.0        5.555                 0.0              0.0   \n",
       "p_10000         4.0        3.935                 0.0              1.0   \n",
       "\n",
       "         discount_trans  discount_amount  info_viewed  info_trans  info_amount  \n",
       "p_1                 9.0           20.400          0.0         0.0        0.000  \n",
       "p_10                0.0            0.000          1.0         0.0        0.000  \n",
       "p_100               0.0            0.000          0.0         0.0        0.000  \n",
       "p_1000              0.0            0.000          1.0         1.0        0.855  \n",
       "p_10000             3.0            1.515          0.0         0.0        0.000  "
      ]
     },
     "metadata": {},
     "output_type": "display_data"
    },
    {
     "name": "stdout",
     "output_type": "stream",
     "text": [
      "<class 'pandas.core.frame.DataFrame'>\n",
      "Index: 17000 entries, p_1 to p_9999\n",
      "Data columns (total 31 columns):\n",
      "age                   14825 non-null float64\n",
      "gender                14825 non-null category\n",
      "income                14825 non-null float64\n",
      "member_days           17000 non-null int64\n",
      "offer_received        17000 non-null float64\n",
      "offer_viewed          17000 non-null float64\n",
      "offer_completed       17000 non-null float64\n",
      "viewed_received       17000 non-null float64\n",
      "completed_viewed      17000 non-null float64\n",
      "total_trans           17000 non-null float64\n",
      "total_amount          17000 non-null float64\n",
      "total_reward          17000 non-null float64\n",
      "total_profit          17000 non-null float64\n",
      "prop_reward           17000 non-null float64\n",
      "total_mean_amount     17000 non-null float64\n",
      "np_trans              17000 non-null int64\n",
      "np_amount             17000 non-null float64\n",
      "np_mean_amount        17000 non-null float64\n",
      "prop_np_trans         17000 non-null float64\n",
      "prop_np_amount        17000 non-null float64\n",
      "bogo_completed        17000 non-null float64\n",
      "bogo_viewed           17000 non-null float64\n",
      "bogo_trans            17000 non-null float64\n",
      "bogo_amount           17000 non-null float64\n",
      "discount_completed    17000 non-null float64\n",
      "discount_viewed       17000 non-null float64\n",
      "discount_trans        17000 non-null float64\n",
      "discount_amount       17000 non-null float64\n",
      "info_viewed           17000 non-null float64\n",
      "info_trans            17000 non-null float64\n",
      "info_amount           17000 non-null float64\n",
      "dtypes: category(1), float64(28), int64(2)\n",
      "memory usage: 4.0+ MB\n"
     ]
    },
    {
     "data": {
      "text/plain": [
       "None"
      ]
     },
     "metadata": {},
     "output_type": "display_data"
    }
   ],
   "source": [
    "display(profile_type.head())\n",
    "display(profile_type.info())"
   ]
  },
  {
   "cell_type": "code",
   "execution_count": 4,
   "metadata": {},
   "outputs": [],
   "source": [
    "# \"\"\"eliminiate missing values\"\"\"\n",
    "\n",
    "# profile = cleaning.handle_NaN(profile, cols_to_impute_num=['age', 'income'])\n",
    "# profile['gender'] = profile['gender'].fillna('u')"
   ]
  },
  {
   "cell_type": "code",
   "execution_count": 5,
   "metadata": {},
   "outputs": [],
   "source": [
    "# check results\n",
    "# profile.head()"
   ]
  },
  {
   "cell_type": "markdown",
   "metadata": {},
   "source": [
    "### Select relevant columns for modelling"
   ]
  },
  {
   "cell_type": "code",
   "execution_count": 7,
   "metadata": {},
   "outputs": [
    {
     "data": {
      "text/html": [
       "<div>\n",
       "<style scoped>\n",
       "    .dataframe tbody tr th:only-of-type {\n",
       "        vertical-align: middle;\n",
       "    }\n",
       "\n",
       "    .dataframe tbody tr th {\n",
       "        vertical-align: top;\n",
       "    }\n",
       "\n",
       "    .dataframe thead th {\n",
       "        text-align: right;\n",
       "    }\n",
       "</style>\n",
       "<table border=\"1\" class=\"dataframe\">\n",
       "  <thead>\n",
       "    <tr style=\"text-align: right;\">\n",
       "      <th></th>\n",
       "      <th>age</th>\n",
       "      <th>gender</th>\n",
       "      <th>income</th>\n",
       "      <th>member_days</th>\n",
       "      <th>offer_received</th>\n",
       "      <th>offer_viewed</th>\n",
       "      <th>offer_completed</th>\n",
       "      <th>viewed_received</th>\n",
       "      <th>completed_viewed</th>\n",
       "      <th>total_trans</th>\n",
       "      <th>total_amount</th>\n",
       "      <th>total_reward</th>\n",
       "      <th>total_profit</th>\n",
       "      <th>prop_reward</th>\n",
       "      <th>total_mean_amount</th>\n",
       "      <th>np_trans</th>\n",
       "      <th>np_amount</th>\n",
       "      <th>np_mean_amount</th>\n",
       "      <th>prop_np_trans</th>\n",
       "      <th>prop_np_amount</th>\n",
       "      <th>bogo_completed</th>\n",
       "      <th>bogo_viewed</th>\n",
       "      <th>bogo_trans</th>\n",
       "      <th>bogo_amount</th>\n",
       "      <th>discount_completed</th>\n",
       "      <th>discount_viewed</th>\n",
       "      <th>discount_trans</th>\n",
       "      <th>discount_amount</th>\n",
       "      <th>info_viewed</th>\n",
       "      <th>info_trans</th>\n",
       "      <th>info_amount</th>\n",
       "      <th>prop_bogo_amount</th>\n",
       "      <th>prop_discount_amount</th>\n",
       "      <th>prop_info_amount</th>\n",
       "      <th>bogo_vtc</th>\n",
       "      <th>discount_vtc</th>\n",
       "      <th>complete_by_accident</th>\n",
       "    </tr>\n",
       "  </thead>\n",
       "  <tbody>\n",
       "    <tr>\n",
       "      <th>p_1</th>\n",
       "      <td>NaN</td>\n",
       "      <td>NaN</td>\n",
       "      <td>NaN</td>\n",
       "      <td>-529</td>\n",
       "      <td>5.0</td>\n",
       "      <td>5.0</td>\n",
       "      <td>2.0</td>\n",
       "      <td>1.00</td>\n",
       "      <td>2.0</td>\n",
       "      <td>9.0</td>\n",
       "      <td>20.40</td>\n",
       "      <td>5.0</td>\n",
       "      <td>15.40</td>\n",
       "      <td>0.245098</td>\n",
       "      <td>2.266667</td>\n",
       "      <td>0</td>\n",
       "      <td>0.00</td>\n",
       "      <td>0.000000</td>\n",
       "      <td>0.0</td>\n",
       "      <td>0.000000</td>\n",
       "      <td>0.0</td>\n",
       "      <td>0.0</td>\n",
       "      <td>0.0</td>\n",
       "      <td>0.00</td>\n",
       "      <td>2.0</td>\n",
       "      <td>5.0</td>\n",
       "      <td>9.0</td>\n",
       "      <td>20.4</td>\n",
       "      <td>0.0</td>\n",
       "      <td>0.0</td>\n",
       "      <td>0.0</td>\n",
       "      <td>0.000000</td>\n",
       "      <td>1.0</td>\n",
       "      <td>0.0</td>\n",
       "      <td>0.0</td>\n",
       "      <td>0.4</td>\n",
       "      <td>0.0</td>\n",
       "    </tr>\n",
       "    <tr>\n",
       "      <th>p_10</th>\n",
       "      <td>NaN</td>\n",
       "      <td>NaN</td>\n",
       "      <td>NaN</td>\n",
       "      <td>-611</td>\n",
       "      <td>4.0</td>\n",
       "      <td>3.0</td>\n",
       "      <td>1.0</td>\n",
       "      <td>0.75</td>\n",
       "      <td>0.0</td>\n",
       "      <td>6.0</td>\n",
       "      <td>15.62</td>\n",
       "      <td>5.0</td>\n",
       "      <td>10.62</td>\n",
       "      <td>0.320102</td>\n",
       "      <td>2.603333</td>\n",
       "      <td>3</td>\n",
       "      <td>7.69</td>\n",
       "      <td>2.563333</td>\n",
       "      <td>0.5</td>\n",
       "      <td>0.492318</td>\n",
       "      <td>0.0</td>\n",
       "      <td>2.0</td>\n",
       "      <td>3.0</td>\n",
       "      <td>7.93</td>\n",
       "      <td>0.0</td>\n",
       "      <td>0.0</td>\n",
       "      <td>0.0</td>\n",
       "      <td>0.0</td>\n",
       "      <td>1.0</td>\n",
       "      <td>0.0</td>\n",
       "      <td>0.0</td>\n",
       "      <td>0.507682</td>\n",
       "      <td>0.0</td>\n",
       "      <td>0.0</td>\n",
       "      <td>0.0</td>\n",
       "      <td>0.0</td>\n",
       "      <td>1.0</td>\n",
       "    </tr>\n",
       "  </tbody>\n",
       "</table>\n",
       "</div>"
      ],
      "text/plain": [
       "      age gender  income  member_days  offer_received  offer_viewed  \\\n",
       "p_1   NaN    NaN     NaN         -529             5.0           5.0   \n",
       "p_10  NaN    NaN     NaN         -611             4.0           3.0   \n",
       "\n",
       "      offer_completed  viewed_received  completed_viewed  total_trans  \\\n",
       "p_1               2.0             1.00               2.0          9.0   \n",
       "p_10              1.0             0.75               0.0          6.0   \n",
       "\n",
       "      total_amount  total_reward  total_profit  prop_reward  \\\n",
       "p_1          20.40           5.0         15.40     0.245098   \n",
       "p_10         15.62           5.0         10.62     0.320102   \n",
       "\n",
       "      total_mean_amount  np_trans  np_amount  np_mean_amount  prop_np_trans  \\\n",
       "p_1            2.266667         0       0.00        0.000000            0.0   \n",
       "p_10           2.603333         3       7.69        2.563333            0.5   \n",
       "\n",
       "      prop_np_amount  bogo_completed  bogo_viewed  bogo_trans  bogo_amount  \\\n",
       "p_1         0.000000             0.0          0.0         0.0         0.00   \n",
       "p_10        0.492318             0.0          2.0         3.0         7.93   \n",
       "\n",
       "      discount_completed  discount_viewed  discount_trans  discount_amount  \\\n",
       "p_1                  2.0              5.0             9.0             20.4   \n",
       "p_10                 0.0              0.0             0.0              0.0   \n",
       "\n",
       "      info_viewed  info_trans  info_amount  prop_bogo_amount  \\\n",
       "p_1           0.0         0.0          0.0          0.000000   \n",
       "p_10          1.0         0.0          0.0          0.507682   \n",
       "\n",
       "      prop_discount_amount  prop_info_amount  bogo_vtc  discount_vtc  \\\n",
       "p_1                    1.0               0.0       0.0           0.4   \n",
       "p_10                   0.0               0.0       0.0           0.0   \n",
       "\n",
       "      complete_by_accident  \n",
       "p_1                    0.0  \n",
       "p_10                   1.0  "
      ]
     },
     "metadata": {},
     "output_type": "display_data"
    }
   ],
   "source": [
    "\"\"\"calculate some additional ratios\"\"\"\n",
    "\n",
    "profile_type['prop_bogo_amount'] = profile_type['bogo_amount'] / profile_type['total_amount']\n",
    "profile_type['prop_discount_amount'] = profile_type['discount_amount'] / profile_type['total_amount']\n",
    "profile_type['prop_info_amount'] = profile_type['info_amount'] / profile_type['total_amount']\n",
    "\n",
    "profile_type['bogo_vtc'] = profile_type['bogo_completed'] / profile_type['bogo_viewed']\n",
    "profile_type['discount_vtc'] = profile_type['discount_completed'] / profile_type['discount_viewed']\n",
    "\n",
    "profile_type['complete_by_accident'] = profile_type['offer_completed'] - profile_type['completed_viewed']\n",
    "\n",
    "# eliminate NaN in aggregated data and check results\n",
    "profile_type.iloc[: , 4:] = profile_type.iloc[: , 4:].fillna(value=0.0)\n",
    "display(profile_type.head(2))"
   ]
  },
  {
   "cell_type": "code",
   "execution_count": 16,
   "metadata": {},
   "outputs": [],
   "source": [
    "profile = profile_type[['age', 'gender', 'income', 'member_days', 'viewed_received', 'total_trans', 'prop_np_amount', 'bogo_completed', 'bogo_viewed', \n",
    "                        'prop_bogo_amount', 'discount_completed', 'discount_viewed', 'prop_discount_amount', 'info_viewed', \n",
    "                       'prop_info_amount', 'complete_by_accident', 'total_profit']]"
   ]
  },
  {
   "cell_type": "markdown",
   "metadata": {},
   "source": [
    "## Run quick and dirty linear regression"
   ]
  },
  {
   "cell_type": "code",
   "execution_count": 17,
   "metadata": {},
   "outputs": [
    {
     "name": "stderr",
     "output_type": "stream",
     "text": [
      "C:\\Users\\r2d4\\Anaconda3\\lib\\site-packages\\pandas\\core\\generic.py:5434: SettingWithCopyWarning: \n",
      "A value is trying to be set on a copy of a slice from a DataFrame\n",
      "\n",
      "See the caveats in the documentation: http://pandas.pydata.org/pandas-docs/stable/indexing.html#indexing-view-versus-copy\n",
      "  self._update_inplace(new_data)\n"
     ]
    }
   ],
   "source": [
    "\"initialize and run base model\"\n",
    "\n",
    "# define a scikit-learn model object you want to work with\n",
    "model = LinearRegression(normalize=True)\n",
    "# create an instance of the LinRegModel class by passing the dataframe, the target variable and the model object\n",
    "linReg_simple = LinRegModel(profile, 'total_profit', model)\n",
    "# go\n",
    "linReg_simple.go_quickDirty()"
   ]
  },
  {
   "cell_type": "code",
   "execution_count": 18,
   "metadata": {},
   "outputs": [
    {
     "data": {
      "text/plain": [
       "LinearRegression(copy_X=True, fit_intercept=True, n_jobs=None, normalize=True)\n",
       "\n",
       "RMSE on test data 95.26, r2-score 0.40."
      ]
     },
     "execution_count": 18,
     "metadata": {},
     "output_type": "execute_result"
    }
   ],
   "source": [
    "# check performance\n",
    "linReg_simple"
   ]
  },
  {
   "cell_type": "code",
   "execution_count": 33,
   "metadata": {},
   "outputs": [
    {
     "name": "stdout",
     "output_type": "stream",
     "text": [
      "[learning_curve] Training set sizes: [  95  591 1087 1583 2079 2575 3071 3567 4063 4559 5055 5551 6047 6543\n",
      " 7039 7535 8031 8527 9023 9520]\n"
     ]
    },
    {
     "name": "stderr",
     "output_type": "stream",
     "text": [
      "[Parallel(n_jobs=-1)]: Using backend LokyBackend with 4 concurrent workers.\n",
      "[Parallel(n_jobs=-1)]: Done 100 out of 100 | elapsed:    1.6s finished\n"
     ]
    },
    {
     "data": {
      "image/png": "[encoded data removed]",
      "text/plain": [
       "<Figure size 1152x288 with 1 Axes>"
      ]
     },
     "metadata": {
      "needs_background": "light"
     },
     "output_type": "display_data"
    }
   ],
   "source": [
    "\"\"\"plot learning curves using 5-fold cross validation\"\"\"\n",
    "linReg_simple.plot_learning_curves()"
   ]
  },
  {
   "cell_type": "markdown",
   "metadata": {},
   "source": [
    "### Check results for Ridge, Lasso, ElasticNet"
   ]
  },
  {
   "cell_type": "code",
   "execution_count": 19,
   "metadata": {},
   "outputs": [
    {
     "name": "stderr",
     "output_type": "stream",
     "text": [
      "C:\\Users\\r2d4\\Anaconda3\\lib\\site-packages\\pandas\\core\\generic.py:5434: SettingWithCopyWarning: \n",
      "A value is trying to be set on a copy of a slice from a DataFrame\n",
      "\n",
      "See the caveats in the documentation: http://pandas.pydata.org/pandas-docs/stable/indexing.html#indexing-view-versus-copy\n",
      "  self._update_inplace(new_data)\n"
     ]
    },
    {
     "data": {
      "text/plain": [
       "RidgeCV(alphas=array([30, 50, 70]), cv=3, fit_intercept=True, gcv_mode=None,\n",
       "    normalize=False, scoring=None, store_cv_values=False)\n",
       "\n",
       "RMSE on test data 95.27, r2-score 0.40."
      ]
     },
     "execution_count": 19,
     "metadata": {},
     "output_type": "execute_result"
    }
   ],
   "source": [
    "# define RidgeCV without normalization but higher alphas)\n",
    "model = RidgeCV(alphas=[30, 50, 70], cv=3, fit_intercept=True)\n",
    "# instantiate\n",
    "ridgeCV_simple = LinRegModel(profile, 'total_profit', model)\n",
    "# perform linear regression modelling\n",
    "ridgeCV_simple.go_quickDirty()\n",
    "# output scores\n",
    "ridgeCV_simple"
   ]
  },
  {
   "cell_type": "code",
   "execution_count": 35,
   "metadata": {},
   "outputs": [
    {
     "data": {
      "text/plain": [
       "30"
      ]
     },
     "execution_count": 35,
     "metadata": {},
     "output_type": "execute_result"
    }
   ],
   "source": [
    "model.alpha_"
   ]
  },
  {
   "cell_type": "code",
   "execution_count": 36,
   "metadata": {},
   "outputs": [],
   "source": [
    "# plot feature weights\n",
    "# ridgeCV_simple.print_coef_weights(n_bootstrap=10)"
   ]
  },
  {
   "cell_type": "code",
   "execution_count": 38,
   "metadata": {},
   "outputs": [
    {
     "name": "stderr",
     "output_type": "stream",
     "text": [
      "C:\\Users\\r2d4\\Anaconda3\\lib\\site-packages\\pandas\\core\\generic.py:5434: SettingWithCopyWarning: \n",
      "A value is trying to be set on a copy of a slice from a DataFrame\n",
      "\n",
      "See the caveats in the documentation: http://pandas.pydata.org/pandas-docs/stable/indexing.html#indexing-view-versus-copy\n",
      "  self._update_inplace(new_data)\n"
     ]
    },
    {
     "data": {
      "text/plain": [
       "LassoCV(alphas=[0.01, 0.1, 1], copy_X=True, cv=3, eps=0.001,\n",
       "    fit_intercept=True, max_iter=1000, n_alphas=100, n_jobs=None,\n",
       "    normalize=False, positive=False, precompute='auto', random_state=None,\n",
       "    selection='cyclic', tol=0.0001, verbose=False)\n",
       "\n",
       "RMSE on test data 97.06, r2-score 0.37."
      ]
     },
     "execution_count": 38,
     "metadata": {},
     "output_type": "execute_result"
    }
   ],
   "source": [
    "# define lassoCV without normalization (but higher alphas)\n",
    "model = LassoCV(alphas=[0.01, 0.1, 1],cv=3, fit_intercept=True)\n",
    "# instantiate\n",
    "lassoCV_simple = LinRegModel(profile, 'total_profit', model)\n",
    "# perform linear regression modelling\n",
    "lassoCV_simple.go_quickDirty()\n",
    "# output scores\n",
    "lassoCV_simple"
   ]
  },
  {
   "cell_type": "code",
   "execution_count": 39,
   "metadata": {},
   "outputs": [
    {
     "data": {
      "text/plain": [
       "0.01"
      ]
     },
     "execution_count": 39,
     "metadata": {},
     "output_type": "execute_result"
    }
   ],
   "source": [
    "model.alpha_"
   ]
  },
  {
   "cell_type": "code",
   "execution_count": 40,
   "metadata": {},
   "outputs": [
    {
     "data": {
      "text/html": [
       "<div>\n",
       "<style scoped>\n",
       "    .dataframe tbody tr th:only-of-type {\n",
       "        vertical-align: middle;\n",
       "    }\n",
       "\n",
       "    .dataframe tbody tr th {\n",
       "        vertical-align: top;\n",
       "    }\n",
       "\n",
       "    .dataframe thead th {\n",
       "        text-align: right;\n",
       "    }\n",
       "</style>\n",
       "<table border=\"1\" class=\"dataframe\">\n",
       "  <thead>\n",
       "    <tr style=\"text-align: right;\">\n",
       "      <th></th>\n",
       "      <th>effect</th>\n",
       "      <th>error</th>\n",
       "    </tr>\n",
       "  </thead>\n",
       "  <tbody>\n",
       "    <tr>\n",
       "      <th>prop_np_amount</th>\n",
       "      <td>59.1</td>\n",
       "      <td>0.0</td>\n",
       "    </tr>\n",
       "    <tr>\n",
       "      <th>gender_nan</th>\n",
       "      <td>-51.9</td>\n",
       "      <td>0.0</td>\n",
       "    </tr>\n",
       "    <tr>\n",
       "      <th>bogo_completed</th>\n",
       "      <td>29.2</td>\n",
       "      <td>0.0</td>\n",
       "    </tr>\n",
       "    <tr>\n",
       "      <th>viewed_received</th>\n",
       "      <td>21.4</td>\n",
       "      <td>5.0</td>\n",
       "    </tr>\n",
       "    <tr>\n",
       "      <th>discount_completed</th>\n",
       "      <td>15.1</td>\n",
       "      <td>0.0</td>\n",
       "    </tr>\n",
       "    <tr>\n",
       "      <th>gender_M</th>\n",
       "      <td>-9.9</td>\n",
       "      <td>5.0</td>\n",
       "    </tr>\n",
       "    <tr>\n",
       "      <th>total_trans</th>\n",
       "      <td>7.8</td>\n",
       "      <td>1.0</td>\n",
       "    </tr>\n",
       "    <tr>\n",
       "      <th>info_viewed</th>\n",
       "      <td>7.3</td>\n",
       "      <td>1.0</td>\n",
       "    </tr>\n",
       "    <tr>\n",
       "      <th>gender_O</th>\n",
       "      <td>-7.2</td>\n",
       "      <td>1.0</td>\n",
       "    </tr>\n",
       "    <tr>\n",
       "      <th>bogo_viewed</th>\n",
       "      <td>-6.9</td>\n",
       "      <td>1.0</td>\n",
       "    </tr>\n",
       "    <tr>\n",
       "      <th>discount_viewed</th>\n",
       "      <td>2.1</td>\n",
       "      <td>1.0</td>\n",
       "    </tr>\n",
       "    <tr>\n",
       "      <th>age</th>\n",
       "      <td>0.1</td>\n",
       "      <td>2.0</td>\n",
       "    </tr>\n",
       "    <tr>\n",
       "      <th>income</th>\n",
       "      <td>0.0</td>\n",
       "      <td>6.0</td>\n",
       "    </tr>\n",
       "    <tr>\n",
       "      <th>member_days</th>\n",
       "      <td>0.0</td>\n",
       "      <td>2.0</td>\n",
       "    </tr>\n",
       "  </tbody>\n",
       "</table>\n",
       "</div>"
      ],
      "text/plain": [
       "                    effect  error\n",
       "prop_np_amount        59.1    0.0\n",
       "gender_nan           -51.9    0.0\n",
       "bogo_completed        29.2    0.0\n",
       "viewed_received       21.4    5.0\n",
       "discount_completed    15.1    0.0\n",
       "gender_M              -9.9    5.0\n",
       "total_trans            7.8    1.0\n",
       "info_viewed            7.3    1.0\n",
       "gender_O              -7.2    1.0\n",
       "bogo_viewed           -6.9    1.0\n",
       "discount_viewed        2.1    1.0\n",
       "age                    0.1    2.0\n",
       "income                 0.0    6.0\n",
       "member_days            0.0    2.0"
      ]
     },
     "execution_count": 40,
     "metadata": {},
     "output_type": "execute_result"
    }
   ],
   "source": [
    "# plot feature weights\n",
    "lassoCV_simple.print_coef_weights(n_bootstrap=10)"
   ]
  },
  {
   "cell_type": "code",
   "execution_count": 21,
   "metadata": {},
   "outputs": [
    {
     "name": "stderr",
     "output_type": "stream",
     "text": [
      "C:\\Users\\r2d4\\Anaconda3\\lib\\site-packages\\pandas\\core\\generic.py:5434: SettingWithCopyWarning: \n",
      "A value is trying to be set on a copy of a slice from a DataFrame\n",
      "\n",
      "See the caveats in the documentation: http://pandas.pydata.org/pandas-docs/stable/indexing.html#indexing-view-versus-copy\n",
      "  self._update_inplace(new_data)\n"
     ]
    },
    {
     "data": {
      "text/plain": [
       "ElasticNetCV(alphas=[0.05, 0.1, 0.2], copy_X=True, cv=5, eps=0.001,\n",
       "       fit_intercept=True, l1_ratio=[0.2, 0.5, 0.7], max_iter=1000,\n",
       "       n_alphas=None, n_jobs=-1, normalize=False, positive=False,\n",
       "       precompute='auto', random_state=None, selection='cyclic',\n",
       "       tol=0.0001, verbose=0)\n",
       "\n",
       "RMSE on test data 95.39, r2-score 0.39."
      ]
     },
     "execution_count": 21,
     "metadata": {},
     "output_type": "execute_result"
    }
   ],
   "source": [
    "# define ElasticNetCV without normalization\n",
    "model = ElasticNetCV(alphas=[0.05, 0.1, 0.2], copy_X=True, cv=5, eps=0.001, fit_intercept=True,\n",
    "       l1_ratio=[0.2, 0.5, 0.7], max_iter=1000, n_alphas=None, n_jobs=-1)\n",
    "# instantiate\n",
    "elasticNetCV_simple = LinRegModel(profile, 'total_profit', model)\n",
    "# perform linear regression modelling on instance\n",
    "elasticNetCV_simple.go_quickDirty()\n",
    "# output scores\n",
    "elasticNetCV_simple"
   ]
  },
  {
   "cell_type": "code",
   "execution_count": 16,
   "metadata": {},
   "outputs": [
    {
     "name": "stdout",
     "output_type": "stream",
     "text": [
      "0.05\n",
      "0.7\n"
     ]
    }
   ],
   "source": [
    "print(model.alpha_)\n",
    "print(model.l1_ratio_)"
   ]
  },
  {
   "cell_type": "code",
   "execution_count": 17,
   "metadata": {},
   "outputs": [],
   "source": [
    "# plot feature weights\n",
    "# elasticNetCV_simple.print_coef_weights(n_bootstrap=10)"
   ]
  },
  {
   "cell_type": "markdown",
   "metadata": {},
   "source": [
    "## Second approach with proper data preparation"
   ]
  },
  {
   "cell_type": "code",
   "execution_count": 22,
   "metadata": {},
   "outputs": [
    {
     "name": "stdout",
     "output_type": "stream",
     "text": [
      "age\n",
      "Identified outliers: 48\n",
      "Percentage of outliers: 0.3%\n",
      "\n",
      "income\n",
      "Identified outliers: 306\n",
      "Percentage of outliers: 1.8%\n",
      "\n",
      "member_days\n",
      "Identified outliers: 287\n",
      "Percentage of outliers: 1.7%\n",
      "\n",
      "viewed_received\n",
      "Identified outliers: 0\n",
      "Percentage of outliers: 0.0%\n",
      "\n",
      "total_trans\n",
      "Identified outliers: 296\n",
      "Percentage of outliers: 1.7%\n",
      "\n",
      "prop_np_amount\n",
      "Identified outliers: 0\n",
      "Percentage of outliers: 0.0%\n",
      "\n",
      "bogo_completed\n",
      "Identified outliers: 667\n",
      "Percentage of outliers: 3.9%\n",
      "\n",
      "bogo_viewed\n",
      "Identified outliers: 632\n",
      "Percentage of outliers: 3.7%\n",
      "\n",
      "prop_bogo_amount\n",
      "Identified outliers: 389\n",
      "Percentage of outliers: 2.3%\n",
      "\n",
      "discount_completed\n",
      "Identified outliers: 743\n",
      "Percentage of outliers: 4.4%\n",
      "\n",
      "discount_viewed\n",
      "Identified outliers: 2\n",
      "Percentage of outliers: 0.0%\n",
      "\n",
      "prop_discount_amount\n",
      "Identified outliers: 498\n",
      "Percentage of outliers: 2.9%\n",
      "\n",
      "info_viewed\n",
      "Identified outliers: 286\n",
      "Percentage of outliers: 1.7%\n",
      "\n",
      "prop_info_amount\n",
      "Identified outliers: 2988\n",
      "Percentage of outliers: 17.6%\n",
      "\n",
      "complete_by_accident\n",
      "Identified outliers: 711\n",
      "Percentage of outliers: 4.2%\n",
      "\n",
      "total_profit\n",
      "Identified outliers: 606\n",
      "Percentage of outliers: 3.6%\n",
      "\n"
     ]
    }
   ],
   "source": [
    "\"\"\"eliminate outliers\"\"\"\n",
    "\n",
    "# count outliers\n",
    "cleaning.count_outliers_IQR_method(profile, IQR_dist=1.5)"
   ]
  },
  {
   "cell_type": "code",
   "execution_count": 23,
   "metadata": {},
   "outputs": [
    {
     "name": "stdout",
     "output_type": "stream",
     "text": [
      "total_profit\n"
     ]
    },
    {
     "name": "stderr",
     "output_type": "stream",
     "text": [
      "C:\\Users\\r2d4\\Anaconda3\\lib\\site-packages\\pandas\\core\\frame.py:3697: SettingWithCopyWarning: \n",
      "A value is trying to be set on a copy of a slice from a DataFrame\n",
      "\n",
      "See the caveats in the documentation: http://pandas.pydata.org/pandas-docs/stable/indexing.html#indexing-view-versus-copy\n",
      "  errors=errors)\n"
     ]
    },
    {
     "name": "stdout",
     "output_type": "stream",
     "text": [
      "Rows removed: 606\n",
      "\n",
      "\n",
      "Rows removed in total: 606\n",
      "\n"
     ]
    }
   ],
   "source": [
    "# remove oultiers\n",
    "outlier_cols = ['total_profit']\n",
    "cleaning.remove_outliers_IQR_method(profile, outlier_cols=outlier_cols, IQR_dist=1.5)"
   ]
  },
  {
   "cell_type": "code",
   "execution_count": 25,
   "metadata": {},
   "outputs": [
    {
     "name": "stderr",
     "output_type": "stream",
     "text": [
      "C:\\Users\\r2d4\\Anaconda3\\lib\\site-packages\\pandas\\core\\generic.py:5434: SettingWithCopyWarning: \n",
      "A value is trying to be set on a copy of a slice from a DataFrame\n",
      "\n",
      "See the caveats in the documentation: http://pandas.pydata.org/pandas-docs/stable/indexing.html#indexing-view-versus-copy\n",
      "  self._update_inplace(new_data)\n"
     ]
    },
    {
     "data": {
      "text/plain": [
       "ElasticNetCV(alphas=[0.05, 0.1, 0.2], copy_X=True, cv=5, eps=0.001,\n",
       "       fit_intercept=True, l1_ratio=[0.2, 0.5, 0.7], max_iter=1000,\n",
       "       n_alphas=None, n_jobs=-1, normalize=False, positive=False,\n",
       "       precompute='auto', random_state=None, selection='cyclic',\n",
       "       tol=0.0001, verbose=0)\n",
       "\n",
       "RMSE on test data 39.69, r2-score 0.69."
      ]
     },
     "execution_count": 25,
     "metadata": {},
     "output_type": "execute_result"
    }
   ],
   "source": [
    "# instantiate\n",
    "elasticNetCV_simple = LinRegModel(profile, 'total_profit', model)\n",
    "# perform linear regression modelling on instance\n",
    "elasticNetCV_simple.go_quickDirty()\n",
    "# output scores\n",
    "elasticNetCV_simple"
   ]
  },
  {
   "cell_type": "code",
   "execution_count": 26,
   "metadata": {},
   "outputs": [
    {
     "name": "stdout",
     "output_type": "stream",
     "text": [
      "0.05\n",
      "0.7\n"
     ]
    }
   ],
   "source": [
    "print(model.alpha_)\n",
    "print(model.l1_ratio_)"
   ]
  },
  {
   "cell_type": "code",
   "execution_count": 46,
   "metadata": {},
   "outputs": [
    {
     "data": {
      "text/html": [
       "<div>\n",
       "<style scoped>\n",
       "    .dataframe tbody tr th:only-of-type {\n",
       "        vertical-align: middle;\n",
       "    }\n",
       "\n",
       "    .dataframe tbody tr th {\n",
       "        vertical-align: top;\n",
       "    }\n",
       "\n",
       "    .dataframe thead th {\n",
       "        text-align: right;\n",
       "    }\n",
       "</style>\n",
       "<table border=\"1\" class=\"dataframe\">\n",
       "  <thead>\n",
       "    <tr style=\"text-align: right;\">\n",
       "      <th></th>\n",
       "      <th>effect</th>\n",
       "      <th>error</th>\n",
       "    </tr>\n",
       "  </thead>\n",
       "  <tbody>\n",
       "    <tr>\n",
       "      <th>prop_np_amount</th>\n",
       "      <td>48.8</td>\n",
       "      <td>0.0</td>\n",
       "    </tr>\n",
       "    <tr>\n",
       "      <th>gender_nan</th>\n",
       "      <td>-45.0</td>\n",
       "      <td>0.0</td>\n",
       "    </tr>\n",
       "    <tr>\n",
       "      <th>viewed_received</th>\n",
       "      <td>23.3</td>\n",
       "      <td>0.0</td>\n",
       "    </tr>\n",
       "    <tr>\n",
       "      <th>bogo_completed</th>\n",
       "      <td>23.0</td>\n",
       "      <td>2.0</td>\n",
       "    </tr>\n",
       "    <tr>\n",
       "      <th>discount_completed</th>\n",
       "      <td>12.2</td>\n",
       "      <td>0.0</td>\n",
       "    </tr>\n",
       "    <tr>\n",
       "      <th>gender_M</th>\n",
       "      <td>-9.9</td>\n",
       "      <td>1.0</td>\n",
       "    </tr>\n",
       "    <tr>\n",
       "      <th>bogo_viewed</th>\n",
       "      <td>-6.5</td>\n",
       "      <td>1.0</td>\n",
       "    </tr>\n",
       "    <tr>\n",
       "      <th>total_trans</th>\n",
       "      <td>6.1</td>\n",
       "      <td>1.0</td>\n",
       "    </tr>\n",
       "    <tr>\n",
       "      <th>info_viewed</th>\n",
       "      <td>5.5</td>\n",
       "      <td>1.0</td>\n",
       "    </tr>\n",
       "    <tr>\n",
       "      <th>gender_O</th>\n",
       "      <td>-1.6</td>\n",
       "      <td>1.0</td>\n",
       "    </tr>\n",
       "    <tr>\n",
       "      <th>discount_viewed</th>\n",
       "      <td>0.6</td>\n",
       "      <td>1.0</td>\n",
       "    </tr>\n",
       "    <tr>\n",
       "      <th>age</th>\n",
       "      <td>0.1</td>\n",
       "      <td>1.0</td>\n",
       "    </tr>\n",
       "    <tr>\n",
       "      <th>income</th>\n",
       "      <td>0.0</td>\n",
       "      <td>3.0</td>\n",
       "    </tr>\n",
       "    <tr>\n",
       "      <th>member_days</th>\n",
       "      <td>0.0</td>\n",
       "      <td>1.0</td>\n",
       "    </tr>\n",
       "  </tbody>\n",
       "</table>\n",
       "</div>"
      ],
      "text/plain": [
       "                    effect  error\n",
       "prop_np_amount        48.8    0.0\n",
       "gender_nan           -45.0    0.0\n",
       "viewed_received       23.3    0.0\n",
       "bogo_completed        23.0    2.0\n",
       "discount_completed    12.2    0.0\n",
       "gender_M              -9.9    1.0\n",
       "bogo_viewed           -6.5    1.0\n",
       "total_trans            6.1    1.0\n",
       "info_viewed            5.5    1.0\n",
       "gender_O              -1.6    1.0\n",
       "discount_viewed        0.6    1.0\n",
       "age                    0.1    1.0\n",
       "income                 0.0    3.0\n",
       "member_days            0.0    1.0"
      ]
     },
     "execution_count": 46,
     "metadata": {},
     "output_type": "execute_result"
    }
   ],
   "source": [
    "elasticNetCV_simple.print_coef_weights(n_bootstrap=10)"
   ]
  },
  {
   "cell_type": "code",
   "execution_count": 47,
   "metadata": {},
   "outputs": [
    {
     "name": "stdout",
     "output_type": "stream",
     "text": [
      "[learning_curve] Training set sizes: [  91  570 1048 1526 2005 2483 2961 3440 3918 4396 4875 5353 5831 6310\n",
      " 6788 7266 7745 8223 8701 9180]\n"
     ]
    },
    {
     "name": "stderr",
     "output_type": "stream",
     "text": [
      "[Parallel(n_jobs=-1)]: Using backend LokyBackend with 4 concurrent workers.\n",
      "[Parallel(n_jobs=-1)]: Done 100 out of 100 | elapsed:    1.4s finished\n"
     ]
    },
    {
     "data": {
      "image/png": "[encoded data removed]",
      "text/plain": [
       "<Figure size 1152x288 with 1 Axes>"
      ]
     },
     "metadata": {
      "needs_background": "light"
     },
     "output_type": "display_data"
    }
   ],
   "source": [
    "\"\"\"plot learning curves using 5-fold cross validation\"\"\"\n",
    "elasticNetCV_simple.plot_learning_curves()"
   ]
  },
  {
   "cell_type": "code",
   "execution_count": 38,
   "metadata": {},
   "outputs": [],
   "source": [
    "\"\"\"log transform\"\"\"\n",
    "\n",
    "# cleaning.apply_log10(profile, cols_to_log10=['member_days'])"
   ]
  },
  {
   "cell_type": "code",
   "execution_count": 39,
   "metadata": {},
   "outputs": [
    {
     "data": {
      "text/plain": [
       "ElasticNetCV(alphas=[0.05], copy_X=True, cv=5, eps=0.001, fit_intercept=True,\n",
       "       l1_ratio=[0.2, 0.5, 0.7], max_iter=1000, n_alphas=None, n_jobs=-1,\n",
       "       normalize=False, positive=False, precompute='auto',\n",
       "       random_state=None, selection='cyclic', tol=0.0001, verbose=0)\n",
       "\n",
       "RMSE on test data 0.34, r2-score 0.65."
      ]
     },
     "execution_count": 39,
     "metadata": {},
     "output_type": "execute_result"
    }
   ],
   "source": [
    "# # define ElasticNetCV without normalization\n",
    "# model = ElasticNetCV(alphas=[0.05], copy_X=True, cv=5, eps=0.001, fit_intercept=True,\n",
    "#        l1_ratio=[0.2, 0.5, 0.7], max_iter=1000, n_alphas=None, n_jobs=-1)\n",
    "\n",
    "# # instantiate\n",
    "# elasticNetCV_simple = LinRegModel(profile, 'total_amount_log', model)\n",
    "# # perform linear regression modelling on instance\n",
    "# elasticNetCV_simple.go_quickDirty()\n",
    "# # output scores\n",
    "# elasticNetCV_simple"
   ]
  },
  {
   "cell_type": "code",
   "execution_count": 37,
   "metadata": {},
   "outputs": [
    {
     "data": {
      "image/png": "[encoded data removed]",
      "text/plain": [
       "<Figure size 1152x1152 with 49 Axes>"
      ]
     },
     "metadata": {
      "needs_background": "light"
     },
     "output_type": "display_data"
    }
   ],
   "source": [
    "# check results\n",
    "EDA.plot_num_hist(profile)"
   ]
  },
  {
   "cell_type": "code",
   "execution_count": null,
   "metadata": {},
   "outputs": [],
   "source": []
  }
 ],
 "metadata": {
  "kernelspec": {
   "display_name": "Python [conda env:Anaconda3]",
   "language": "python",
   "name": "conda-env-Anaconda3-py"
  },
  "language_info": {
   "codemirror_mode": {
    "name": "ipython",
    "version": 3
   },
   "file_extension": ".py",
   "mimetype": "text/x-python",
   "name": "python",
   "nbconvert_exporter": "python",
   "pygments_lexer": "ipython3",
   "version": "3.6.3"
  }
 },
 "nbformat": 4,
 "nbformat_minor": 2
}
